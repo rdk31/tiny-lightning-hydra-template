{
 "cells": [
  {
   "cell_type": "code",
   "execution_count": 1,
   "metadata": {},
   "outputs": [],
   "source": [
    "import pandas as pd\n",
    "import tqdm\n",
    "import wandb"
   ]
  },
  {
   "cell_type": "code",
   "execution_count": 2,
   "metadata": {},
   "outputs": [],
   "source": [
    "wandb_project = \"\""
   ]
  },
  {
   "cell_type": "code",
   "execution_count": null,
   "metadata": {},
   "outputs": [],
   "source": [
    "api = wandb.Api()\n",
    "runs = api.runs(\n",
    "    wandb_project, filters={\"$and\": [{\"tags\": \"ablation\"}, {\"state\": \"finished\"}]}\n",
    ")\n",
    "\n",
    "results = []\n",
    "\n",
    "all_runs = list(runs)\n",
    "\n",
    "for run in tqdm.tqdm(all_runs):\n",
    "    acc = run.summary[\"val/acc\"]\n",
    "\n",
    "    results.append(\n",
    "        {\n",
    "            \"name\": run.name,\n",
    "            \"acc\": acc,\n",
    "        }\n",
    "    )\n",
    "\n",
    "results = pd.DataFrame(results)\n",
    "results"
   ]
  },
  {
   "cell_type": "code",
   "execution_count": null,
   "metadata": {},
   "outputs": [],
   "source": [
    "print(results.to_latex(index=False, float_format=\"{:.3f}\".format, escape=True))"
   ]
  }
 ],
 "metadata": {
  "kernelspec": {
   "display_name": ".venv",
   "language": "python",
   "name": "python3"
  },
  "language_info": {
   "codemirror_mode": {
    "name": "ipython",
    "version": 3
   },
   "file_extension": ".py",
   "mimetype": "text/x-python",
   "name": "python",
   "nbconvert_exporter": "python",
   "pygments_lexer": "ipython3",
   "version": "3.11.10"
  }
 },
 "nbformat": 4,
 "nbformat_minor": 2
}
